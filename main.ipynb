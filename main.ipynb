{
 "cells": [
  {
   "cell_type": "markdown",
   "metadata": {},
   "source": [
    "# Predictive Analytics for E-commerce Sales"
   ]
  },
  {
   "cell_type": "code",
   "execution_count": 10,
   "metadata": {},
   "outputs": [],
   "source": [
    "import pandas as pd\n",
    "import numpy as np\n",
    "import matplotlib.pyplot as plt\n",
    "import seaborn as sns\n",
    "from sklearn.model_selection import train_test_split\n",
    "from sklearn.linear_model import LinearRegression\n",
    "from sklearn.ensemble import RandomForestRegressor\n",
    "from sklearn.metrics import mean_squared_error, r2_score\n",
    "from sklearn.model_selection import train_test_split"
   ]
  },
  {
   "cell_type": "markdown",
   "metadata": {},
   "source": [
    "### Load Dataset"
   ]
  },
  {
   "cell_type": "code",
   "execution_count": 5,
   "metadata": {},
   "outputs": [
    {
     "name": "stdout",
     "output_type": "stream",
     "text": [
      "Dataset Shape: (1000, 7)\n"
     ]
    },
    {
     "data": {
      "text/html": [
       "<div>\n",
       "<style scoped>\n",
       "    .dataframe tbody tr th:only-of-type {\n",
       "        vertical-align: middle;\n",
       "    }\n",
       "\n",
       "    .dataframe tbody tr th {\n",
       "        vertical-align: top;\n",
       "    }\n",
       "\n",
       "    .dataframe thead th {\n",
       "        text-align: right;\n",
       "    }\n",
       "</style>\n",
       "<table border=\"1\" class=\"dataframe\">\n",
       "  <thead>\n",
       "    <tr style=\"text-align: right;\">\n",
       "      <th></th>\n",
       "      <th>Date</th>\n",
       "      <th>Product_Category</th>\n",
       "      <th>Price</th>\n",
       "      <th>Discount</th>\n",
       "      <th>Customer_Segment</th>\n",
       "      <th>Marketing_Spend</th>\n",
       "      <th>Units_Sold</th>\n",
       "    </tr>\n",
       "  </thead>\n",
       "  <tbody>\n",
       "    <tr>\n",
       "      <th>0</th>\n",
       "      <td>01-01-2023</td>\n",
       "      <td>Sports</td>\n",
       "      <td>932.80</td>\n",
       "      <td>35.82</td>\n",
       "      <td>Occasional</td>\n",
       "      <td>6780.38</td>\n",
       "      <td>32</td>\n",
       "    </tr>\n",
       "    <tr>\n",
       "      <th>1</th>\n",
       "      <td>02-01-2023</td>\n",
       "      <td>Toys</td>\n",
       "      <td>569.48</td>\n",
       "      <td>3.60</td>\n",
       "      <td>Premium</td>\n",
       "      <td>6807.56</td>\n",
       "      <td>16</td>\n",
       "    </tr>\n",
       "    <tr>\n",
       "      <th>2</th>\n",
       "      <td>03-01-2023</td>\n",
       "      <td>Home Decor</td>\n",
       "      <td>699.68</td>\n",
       "      <td>3.56</td>\n",
       "      <td>Premium</td>\n",
       "      <td>3793.91</td>\n",
       "      <td>27</td>\n",
       "    </tr>\n",
       "    <tr>\n",
       "      <th>3</th>\n",
       "      <td>04-01-2023</td>\n",
       "      <td>Toys</td>\n",
       "      <td>923.27</td>\n",
       "      <td>0.61</td>\n",
       "      <td>Premium</td>\n",
       "      <td>9422.75</td>\n",
       "      <td>29</td>\n",
       "    </tr>\n",
       "    <tr>\n",
       "      <th>4</th>\n",
       "      <td>05-01-2023</td>\n",
       "      <td>Toys</td>\n",
       "      <td>710.17</td>\n",
       "      <td>47.83</td>\n",
       "      <td>Premium</td>\n",
       "      <td>1756.83</td>\n",
       "      <td>17</td>\n",
       "    </tr>\n",
       "  </tbody>\n",
       "</table>\n",
       "</div>"
      ],
      "text/plain": [
       "         Date Product_Category   Price  Discount Customer_Segment  \\\n",
       "0  01-01-2023           Sports  932.80     35.82       Occasional   \n",
       "1  02-01-2023             Toys  569.48      3.60          Premium   \n",
       "2  03-01-2023       Home Decor  699.68      3.56          Premium   \n",
       "3  04-01-2023             Toys  923.27      0.61          Premium   \n",
       "4  05-01-2023             Toys  710.17     47.83          Premium   \n",
       "\n",
       "   Marketing_Spend  Units_Sold  \n",
       "0          6780.38          32  \n",
       "1          6807.56          16  \n",
       "2          3793.91          27  \n",
       "3          9422.75          29  \n",
       "4          1756.83          17  "
      ]
     },
     "execution_count": 5,
     "metadata": {},
     "output_type": "execute_result"
    }
   ],
   "source": [
    "df = pd.read_csv(\"Ecommerce_Sales_Prediction_Dataset.csv\") \n",
    "print(\"Dataset Shape:\", df.shape)\n",
    "df.head()"
   ]
  },
  {
   "cell_type": "markdown",
   "metadata": {},
   "source": [
    "### Data Understanding"
   ]
  },
  {
   "cell_type": "code",
   "execution_count": 19,
   "metadata": {},
   "outputs": [
    {
     "name": "stdout",
     "output_type": "stream",
     "text": [
      "<class 'pandas.core.frame.DataFrame'>\n",
      "RangeIndex: 1000 entries, 0 to 999\n",
      "Data columns (total 9 columns):\n",
      " #   Column            Non-Null Count  Dtype         \n",
      "---  ------            --------------  -----         \n",
      " 0   Date              396 non-null    datetime64[ns]\n",
      " 1   Product_Category  1000 non-null   object        \n",
      " 2   Price             1000 non-null   float64       \n",
      " 3   Discount          1000 non-null   float64       \n",
      " 4   Customer_Segment  1000 non-null   object        \n",
      " 5   Marketing_Spend   1000 non-null   float64       \n",
      " 6   Units_Sold        1000 non-null   int64         \n",
      " 7   Year              396 non-null    float64       \n",
      " 8   Month             396 non-null    float64       \n",
      "dtypes: datetime64[ns](1), float64(5), int64(1), object(2)\n",
      "memory usage: 70.4+ KB\n",
      "None\n",
      "                                Date        Price     Discount  \\\n",
      "count                            396  1000.000000  1000.000000   \n",
      "mean   2024-05-18 23:38:10.909090816   505.241920    24.919750   \n",
      "min              2023-01-01 00:00:00    14.590000     0.010000   \n",
      "25%              2023-09-03 18:00:00   243.342500    12.995000   \n",
      "50%              2024-05-06 12:00:00   509.310000    24.965000   \n",
      "75%              2025-01-14 18:00:00   747.592500    37.562500   \n",
      "max              2025-12-09 00:00:00   999.420000    49.920000   \n",
      "std                              NaN   289.791248    14.439951   \n",
      "\n",
      "       Marketing_Spend   Units_Sold         Year       Month  \n",
      "count      1000.000000  1000.000000   396.000000  396.000000  \n",
      "mean       4912.830240    29.631000  2023.909091    6.500000  \n",
      "min         100.300000     5.000000  2023.000000    1.000000  \n",
      "25%        2413.020000    24.000000  2023.000000    3.750000  \n",
      "50%        4837.245000    30.000000  2024.000000    6.500000  \n",
      "75%        7319.675000    34.000000  2025.000000    9.250000  \n",
      "max        9995.620000    57.000000  2025.000000   12.000000  \n",
      "std        2840.602656     7.267989     0.793530    3.456419  \n"
     ]
    }
   ],
   "source": [
    "print(df.info())\n",
    "print(df.describe())"
   ]
  },
  {
   "cell_type": "markdown",
   "metadata": {},
   "source": [
    "### Data Preprocessing"
   ]
  },
  {
   "cell_type": "code",
   "execution_count": null,
   "metadata": {},
   "outputs": [
    {
     "name": "stdout",
     "output_type": "stream",
     "text": [
      "\n",
      "Missing Values:\n",
      " Date                0\n",
      "Product_Category    0\n",
      "Price               0\n",
      "Discount            0\n",
      "Customer_Segment    0\n",
      "Marketing_Spend     0\n",
      "Units_Sold          0\n",
      "Year                0\n",
      "Month               0\n",
      "dtype: int64\n"
     ]
    }
   ],
   "source": [
    "\n",
    "# Convert Date column to datetime\n",
    "df['Date'] = pd.to_datetime(df['Date'], errors='coerce')\n",
    "\n",
    "# Drop rows where Date could not be parsed\n",
    "df = df.dropna(subset=['Date'])\n",
    "\n",
    "# Extract Year and Month\n",
    "df['Year'] = df['Date'].dt.year\n",
    "df['Month'] = df['Date'].dt.month\n",
    "\n",
    "# Check for missing values\n",
    "print(\"\\nMissing Values:\\n\", df.isnull().sum())"
   ]
  },
  {
   "cell_type": "markdown",
   "metadata": {},
   "source": [
    "### Encode Categorical Variables"
   ]
  },
  {
   "cell_type": "code",
   "execution_count": 21,
   "metadata": {},
   "outputs": [
    {
     "name": "stdout",
     "output_type": "stream",
     "text": [
      "   Product_Category_Fashion  Product_Category_Home Decor  \\\n",
      "0                     False                        False   \n",
      "1                     False                        False   \n",
      "2                     False                         True   \n",
      "3                     False                        False   \n",
      "4                     False                        False   \n",
      "\n",
      "   Product_Category_Sports  Product_Category_Toys  Customer_Segment_Premium  \\\n",
      "0                     True                  False                     False   \n",
      "1                    False                   True                      True   \n",
      "2                    False                  False                      True   \n",
      "3                    False                   True                      True   \n",
      "4                    False                   True                      True   \n",
      "\n",
      "   Customer_Segment_Regular  \n",
      "0                     False  \n",
      "1                     False  \n",
      "2                     False  \n",
      "3                     False  \n",
      "4                     False  \n"
     ]
    }
   ],
   "source": [
    "df_encoded = pd.get_dummies(df[['Product_Category', 'Customer_Segment']], drop_first=True)\n",
    "print(df_encoded.head())"
   ]
  },
  {
   "cell_type": "markdown",
   "metadata": {},
   "source": [
    "### Create Feature Set and Target Variable"
   ]
  },
  {
   "cell_type": "code",
   "execution_count": 33,
   "metadata": {},
   "outputs": [],
   "source": [
    "# Select features and target\n",
    "features = df[['Price', 'Discount', 'Marketing_Spend', 'Year', 'Month']]\n",
    "target = df['Units_Sold']\n",
    "\n",
    "# Handle any remaining missing values in features\n",
    "from sklearn.impute import SimpleImputer\n",
    "imputer = SimpleImputer(strategy='mean')\n",
    "features = pd.DataFrame(imputer.fit_transform(features), columns=features.columns)"
   ]
  },
  {
   "cell_type": "markdown",
   "metadata": {},
   "source": [
    "### Train-Test Split"
   ]
  },
  {
   "cell_type": "code",
   "execution_count": 23,
   "metadata": {},
   "outputs": [
    {
     "name": "stdout",
     "output_type": "stream",
     "text": [
      "(800, 11) (200, 11) (800,) (200,)\n"
     ]
    }
   ],
   "source": [
    "X_train, X_test, y_train, y_test = train_test_split(features, target, test_size=0.2, random_state=42)\n",
    "print(X_train.shape, X_test.shape, y_train.shape, y_test.shape)"
   ]
  },
  {
   "cell_type": "markdown",
   "metadata": {},
   "source": [
    "### Model Training"
   ]
  },
  {
   "cell_type": "code",
   "execution_count": 35,
   "metadata": {},
   "outputs": [
    {
     "name": "stdout",
     "output_type": "stream",
     "text": [
      "[28.82430619 29.37472266 29.1144488  29.57530171 29.18136299 29.13429965\n",
      " 29.36595539 29.15220118 28.87390631 29.26654569 29.07571291 29.05466931\n",
      " 28.6953738  29.01760093 28.88233066 28.92588662 29.74601005 28.70724973\n",
      " 28.95539649 28.45331219 29.05121844 29.14654316 28.83753174 29.81134648\n",
      " 28.82158047 29.55188152 28.76832702 28.73388131 29.31686728 29.62720367\n",
      " 29.58688416 28.64892827 29.04231989 29.2310174  29.34333872 28.84088392\n",
      " 28.69750324 28.88406557 29.24116534 28.80251002 29.1575886  29.61711139\n",
      " 29.14259813 28.93410661 29.07158637 29.14300925 28.69493065 29.28541943\n",
      " 29.31563861 28.81736774 29.1992058  28.99705497 28.93670095 28.95617736\n",
      " 29.47589425 29.54726923 29.45581381 29.12253116 29.21206817 29.25220124\n",
      " 29.3201272  29.54173778 28.94506143 29.37161448 28.91731862 29.03958419\n",
      " 28.70038141 29.31479568 29.39649834 28.94666496 28.97479723 29.20113461\n",
      " 29.316953   28.97567204 29.05580684 29.00367127 28.88321244 30.04060838\n",
      " 28.68060241 29.35141411]\n",
      "[27.13 30.27 30.27 28.46 32.53 28.33 28.7  27.98 30.04 29.11 29.52 26.02\n",
      " 25.28 28.25 26.95 28.15 30.38 30.21 27.55 23.38 32.44 29.52 29.49 29.44\n",
      " 27.96 29.49 30.2  28.35 31.01 29.36 30.77 28.77 29.8  28.33 31.22 25.82\n",
      " 28.29 32.09 29.7  28.82 32.18 30.75 28.36 25.84 29.16 27.76 29.8  28.6\n",
      " 31.7  32.91 31.83 30.2  30.42 28.54 29.02 27.97 29.04 29.38 33.05 28.5\n",
      " 30.65 30.24 28.35 27.86 27.26 31.88 32.11 31.31 32.33 32.19 26.69 27.33\n",
      " 28.78 28.99 27.32 31.56 27.28 30.28 28.18 33.26]\n"
     ]
    }
   ],
   "source": [
    "# Linear Regression\n",
    "lr = LinearRegression()\n",
    "lr.fit(X_train, y_train)\n",
    "y_pred_lr = lr.predict(X_test)\n",
    "print(y_pred_lr)\n",
    "\n",
    "# Random Forest\n",
    "rf = RandomForestRegressor(random_state=42, n_estimators=100)\n",
    "rf.fit(X_train, y_train)\n",
    "y_pred_rf = rf.predict(X_test)\n",
    "print(y_pred_rf)\n",
    "\n"
   ]
  },
  {
   "cell_type": "markdown",
   "metadata": {},
   "source": [
    "### Model Evaluation"
   ]
  },
  {
   "cell_type": "code",
   "execution_count": 36,
   "metadata": {},
   "outputs": [
    {
     "name": "stdout",
     "output_type": "stream",
     "text": [
      "\n",
      "Linear Regression:\n",
      "R² Score: -0.006406841505028016\n",
      "RMSE: 7.22667349281332\n",
      "\n",
      "Random Forest:\n",
      "R² Score: -0.05514934464682031\n",
      "RMSE: 7.3996062395238305\n"
     ]
    }
   ],
   "source": [
    "# Linear Regression\n",
    "print(\"\\nLinear Regression:\")\n",
    "print(\"R² Score:\", r2_score(y_test, y_pred_lr))\n",
    "print(\"RMSE:\", np.sqrt(mean_squared_error(y_test, y_pred_lr)))\n",
    "\n",
    "# Random Forest\n",
    "print(\"\\nRandom Forest:\")\n",
    "print(\"R² Score:\", r2_score(y_test, y_pred_rf))\n",
    "print(\"RMSE:\", np.sqrt(mean_squared_error(y_test, y_pred_rf)))"
   ]
  },
  {
   "cell_type": "markdown",
   "metadata": {},
   "source": [
    "### Visualization - Actual vs Predicted (Random Forest)"
   ]
  },
  {
   "cell_type": "code",
   "execution_count": 37,
   "metadata": {},
   "outputs": [
    {
     "data": {
      "image/png": "[encoded data removed]",
      "text/plain": [
       "<Figure size 800x600 with 1 Axes>"
      ]
     },
     "metadata": {},
     "output_type": "display_data"
    }
   ],
   "source": [
    "plt.figure(figsize=(8,6))\n",
    "sns.scatterplot(x=y_test, y=y_pred_rf)\n",
    "plt.xlabel(\"Actual Units Sold\")\n",
    "plt.ylabel(\"Predicted Units Sold\")\n",
    "plt.title(\"Actual vs Predicted Units Sold (Random Forest)\")\n",
    "plt.show()"
   ]
  }
 ],
 "metadata": {
  "kernelspec": {
   "display_name": "Python 3",
   "language": "python",
   "name": "python3"
  },
  "language_info": {
   "codemirror_mode": {
    "name": "ipython",
    "version": 3
   },
   "file_extension": ".py",
   "mimetype": "text/x-python",
   "name": "python",
   "nbconvert_exporter": "python",
   "pygments_lexer": "ipython3",
   "version": "3.12.6"
  }
 },
 "nbformat": 4,
 "nbformat_minor": 2
}
